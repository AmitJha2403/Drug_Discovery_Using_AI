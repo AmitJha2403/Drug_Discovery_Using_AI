{
 "cells": [
  {
   "cell_type": "code",
   "execution_count": 1,
   "id": "9f8d94e7",
   "metadata": {
    "_cell_guid": "b1076dfc-b9ad-4769-8c92-a6c4dae69d19",
    "_uuid": "8f2839f25d086af736a60e9eeb907d3b93b6e0e5",
    "execution": {
     "iopub.execute_input": "2024-02-12T13:21:31.383417Z",
     "iopub.status.busy": "2024-02-12T13:21:31.382944Z",
     "iopub.status.idle": "2024-02-12T13:21:32.467943Z",
     "shell.execute_reply": "2024-02-12T13:21:32.466706Z"
    },
    "papermill": {
     "duration": 1.103871,
     "end_time": "2024-02-12T13:21:32.470682",
     "exception": false,
     "start_time": "2024-02-12T13:21:31.366811",
     "status": "completed"
    },
    "tags": []
   },
   "outputs": [
    {
     "name": "stdout",
     "output_type": "stream",
     "text": [
      "/kaggle/input/chembl22/chembl_22_clean_1576904_sorted_std_final.smi\n"
     ]
    }
   ],
   "source": [
    "# This Python 3 environment comes with many helpful analytics libraries installed\n",
    "# It is defined by the kaggle/python Docker image: https://github.com/kaggle/docker-python\n",
    "# For example, here's several helpful packages to load\n",
    "\n",
    "import numpy as np # linear algebra\n",
    "import pandas as pd # data processing, CSV file I/O (e.g. pd.read_csv)\n",
    "\n",
    "# Input data files are available in the read-only \"../input/\" directory\n",
    "# For example, running this (by clicking run or pressing Shift+Enter) will list all files under the input directory\n",
    "\n",
    "import os\n",
    "for dirname, _, filenames in os.walk('/kaggle/input'):\n",
    "    for filename in filenames:\n",
    "        print(os.path.join(dirname, filename))\n",
    "\n",
    "# You can write up to 20GB to the current directory (/kaggle/working/) that gets preserved as output when you create a version using \"Save & Run All\" \n",
    "# You can also write temporary files to /kaggle/temp/, but they won't be saved outside of the current session"
   ]
  },
  {
   "cell_type": "markdown",
   "id": "8715188f",
   "metadata": {
    "papermill": {
     "duration": 0.013238,
     "end_time": "2024-02-12T13:21:32.497898",
     "exception": false,
     "start_time": "2024-02-12T13:21:32.484660",
     "status": "completed"
    },
    "tags": []
   },
   "source": [
    "**Importing Libraries**"
   ]
  },
  {
   "cell_type": "code",
   "execution_count": 2,
   "id": "6272b90c",
   "metadata": {
    "execution": {
     "iopub.execute_input": "2024-02-12T13:21:32.527981Z",
     "iopub.status.busy": "2024-02-12T13:21:32.527298Z",
     "iopub.status.idle": "2024-02-12T13:21:48.123295Z",
     "shell.execute_reply": "2024-02-12T13:21:48.121953Z"
    },
    "papermill": {
     "duration": 15.615275,
     "end_time": "2024-02-12T13:21:48.126867",
     "exception": false,
     "start_time": "2024-02-12T13:21:32.511592",
     "status": "completed"
    },
    "tags": []
   },
   "outputs": [],
   "source": [
    "import numpy as np # linear algebra\n",
    "import pandas as pd # data processing, CSV file I/O (e.g. pd.read_csv)\n",
    "import os\n",
    "from concurrent.futures import ThreadPoolExecutor\n",
    "from keras.models import Model\n",
    "from keras.layers import TextVectorization\n",
    "from keras.layers import Input, Embedding, LSTM, GRU, Dense\n",
    "from keras.models import Sequential\n",
    "import tensorflow as tf\n",
    "from tensorflow.keras.utils import to_categorical"
   ]
  },
  {
   "cell_type": "markdown",
   "id": "e64fac89",
   "metadata": {
    "papermill": {
     "duration": 0.014304,
     "end_time": "2024-02-12T13:21:48.155482",
     "exception": false,
     "start_time": "2024-02-12T13:21:48.141178",
     "status": "completed"
    },
    "tags": []
   },
   "source": [
    "**Reading Data**"
   ]
  },
  {
   "cell_type": "code",
   "execution_count": 3,
   "id": "5dba6ce7",
   "metadata": {
    "execution": {
     "iopub.execute_input": "2024-02-12T13:21:48.186460Z",
     "iopub.status.busy": "2024-02-12T13:21:48.185756Z",
     "iopub.status.idle": "2024-02-12T13:21:50.127815Z",
     "shell.execute_reply": "2024-02-12T13:21:50.126378Z"
    },
    "papermill": {
     "duration": 1.962238,
     "end_time": "2024-02-12T13:21:50.131491",
     "exception": false,
     "start_time": "2024-02-12T13:21:48.169253",
     "status": "completed"
    },
    "tags": []
   },
   "outputs": [],
   "source": [
    "with open(\"/kaggle/input/chembl22/chembl_22_clean_1576904_sorted_std_final.smi\") as file_handle:\n",
    "    data = file_handle.readlines()"
   ]
  },
  {
   "cell_type": "code",
   "execution_count": 4,
   "id": "4d6e1b33",
   "metadata": {
    "execution": {
     "iopub.execute_input": "2024-02-12T13:21:50.161976Z",
     "iopub.status.busy": "2024-02-12T13:21:50.160885Z",
     "iopub.status.idle": "2024-02-12T13:21:50.229099Z",
     "shell.execute_reply": "2024-02-12T13:21:50.227104Z"
    },
    "papermill": {
     "duration": 0.086835,
     "end_time": "2024-02-12T13:21:50.232085",
     "exception": false,
     "start_time": "2024-02-12T13:21:50.145250",
     "status": "completed"
    },
    "tags": []
   },
   "outputs": [],
   "source": [
    "data = data[0:1000]"
   ]
  },
  {
   "cell_type": "markdown",
   "id": "9b1f78d4",
   "metadata": {
    "papermill": {
     "duration": 0.014217,
     "end_time": "2024-02-12T13:21:50.261257",
     "exception": false,
     "start_time": "2024-02-12T13:21:50.247040",
     "status": "completed"
    },
    "tags": []
   },
   "source": [
    "**Extracting Module**"
   ]
  },
  {
   "cell_type": "code",
   "execution_count": 5,
   "id": "b6c1d0f8",
   "metadata": {
    "execution": {
     "iopub.execute_input": "2024-02-12T13:21:50.291170Z",
     "iopub.status.busy": "2024-02-12T13:21:50.290637Z",
     "iopub.status.idle": "2024-02-12T13:21:50.297163Z",
     "shell.execute_reply": "2024-02-12T13:21:50.295779Z"
    },
    "papermill": {
     "duration": 0.024477,
     "end_time": "2024-02-12T13:21:50.299884",
     "exception": false,
     "start_time": "2024-02-12T13:21:50.275407",
     "status": "completed"
    },
    "tags": []
   },
   "outputs": [],
   "source": [
    "def return_molecule(molecule):\n",
    "    return molecule.split(\"\\t\")[0]"
   ]
  },
  {
   "cell_type": "code",
   "execution_count": 6,
   "id": "a6c06f0a",
   "metadata": {
    "execution": {
     "iopub.execute_input": "2024-02-12T13:21:50.329477Z",
     "iopub.status.busy": "2024-02-12T13:21:50.328831Z",
     "iopub.status.idle": "2024-02-12T13:21:50.385660Z",
     "shell.execute_reply": "2024-02-12T13:21:50.384255Z"
    },
    "papermill": {
     "duration": 0.075396,
     "end_time": "2024-02-12T13:21:50.388463",
     "exception": false,
     "start_time": "2024-02-12T13:21:50.313067",
     "status": "completed"
    },
    "tags": []
   },
   "outputs": [],
   "source": [
    "with ThreadPoolExecutor(max_workers=os.cpu_count()) as pool:\n",
    "    data = list(pool.map(return_molecule, data))"
   ]
  },
  {
   "cell_type": "code",
   "execution_count": 7,
   "id": "17f5a90c",
   "metadata": {
    "execution": {
     "iopub.execute_input": "2024-02-12T13:21:50.417677Z",
     "iopub.status.busy": "2024-02-12T13:21:50.417187Z",
     "iopub.status.idle": "2024-02-12T13:21:50.424160Z",
     "shell.execute_reply": "2024-02-12T13:21:50.422542Z"
    },
    "papermill": {
     "duration": 0.025703,
     "end_time": "2024-02-12T13:21:50.427470",
     "exception": false,
     "start_time": "2024-02-12T13:21:50.401767",
     "status": "completed"
    },
    "tags": []
   },
   "outputs": [
    {
     "name": "stdout",
     "output_type": "stream",
     "text": [
      "Maximum length molecule is: 13\n"
     ]
    }
   ],
   "source": [
    "max_length=len(max(data, key=len))\n",
    "print(f\"Maximum length molecule is: {max_length}\")"
   ]
  },
  {
   "cell_type": "code",
   "execution_count": 8,
   "id": "75d47651",
   "metadata": {
    "execution": {
     "iopub.execute_input": "2024-02-12T13:21:50.457426Z",
     "iopub.status.busy": "2024-02-12T13:21:50.456944Z",
     "iopub.status.idle": "2024-02-12T13:21:50.833469Z",
     "shell.execute_reply": "2024-02-12T13:21:50.831909Z"
    },
    "papermill": {
     "duration": 0.394567,
     "end_time": "2024-02-12T13:21:50.836184",
     "exception": false,
     "start_time": "2024-02-12T13:21:50.441617",
     "status": "completed"
    },
    "tags": []
   },
   "outputs": [
    {
     "data": {
      "text/plain": [
       "Text(0, 0.5, 'Frequency')"
      ]
     },
     "execution_count": 8,
     "metadata": {},
     "output_type": "execute_result"
    },
    {
     "data": {
      "image/png": "[encoded data removed]",
      "text/plain": [
       "<Figure size 640x480 with 1 Axes>"
      ]
     },
     "metadata": {},
     "output_type": "display_data"
    }
   ],
   "source": [
    "import matplotlib.pyplot as plt\n",
    "len_mole=[]\n",
    "for mole in data:\n",
    "    len_mole.append(len(mole))\n",
    "plt.hist(x=len_mole, bins=len(set(len_mole)))\n",
    "plt.xlabel(\"Lengths of Different Molecules\")\n",
    "plt.ylabel(\"Frequency\")"
   ]
  },
  {
   "cell_type": "code",
   "execution_count": null,
   "id": "8a3af5ca",
   "metadata": {
    "execution": {
     "iopub.execute_input": "2024-02-01T06:27:59.939184Z",
     "iopub.status.busy": "2024-02-01T06:27:59.938816Z",
     "iopub.status.idle": "2024-02-01T06:27:59.945293Z",
     "shell.execute_reply": "2024-02-01T06:27:59.944006Z",
     "shell.execute_reply.started": "2024-02-01T06:27:59.939156Z"
    },
    "papermill": {
     "duration": 0.013557,
     "end_time": "2024-02-12T13:21:50.863590",
     "exception": false,
     "start_time": "2024-02-12T13:21:50.850033",
     "status": "completed"
    },
    "tags": []
   },
   "outputs": [],
   "source": []
  },
  {
   "cell_type": "markdown",
   "id": "6327f8c0",
   "metadata": {
    "papermill": {
     "duration": 0.015104,
     "end_time": "2024-02-12T13:21:50.893002",
     "exception": false,
     "start_time": "2024-02-12T13:21:50.877898",
     "status": "completed"
    },
    "tags": []
   },
   "source": [
    "**Filtering Data**"
   ]
  },
  {
   "cell_type": "code",
   "execution_count": 9,
   "id": "0b4b6249",
   "metadata": {
    "execution": {
     "iopub.execute_input": "2024-02-12T13:21:50.924097Z",
     "iopub.status.busy": "2024-02-12T13:21:50.923637Z",
     "iopub.status.idle": "2024-02-12T13:21:50.931440Z",
     "shell.execute_reply": "2024-02-12T13:21:50.929650Z"
    },
    "papermill": {
     "duration": 0.027264,
     "end_time": "2024-02-12T13:21:50.934055",
     "exception": false,
     "start_time": "2024-02-12T13:21:50.906791",
     "status": "completed"
    },
    "tags": []
   },
   "outputs": [
    {
     "name": "stdout",
     "output_type": "stream",
     "text": [
      "The size of the new_data is : 1000\n"
     ]
    }
   ],
   "source": [
    "max_length_molecule=52\n",
    "new_data=[]\n",
    "for mole in data:\n",
    "    if len(mole)<=max_length_molecule:\n",
    "        new_data.append(mole)\n",
    "print(f\"The size of the new_data is : {len(new_data)}\")"
   ]
  },
  {
   "cell_type": "code",
   "execution_count": 10,
   "id": "0b937a9b",
   "metadata": {
    "execution": {
     "iopub.execute_input": "2024-02-12T13:21:50.966500Z",
     "iopub.status.busy": "2024-02-12T13:21:50.966060Z",
     "iopub.status.idle": "2024-02-12T13:21:50.974000Z",
     "shell.execute_reply": "2024-02-12T13:21:50.972426Z"
    },
    "papermill": {
     "duration": 0.027584,
     "end_time": "2024-02-12T13:21:50.976716",
     "exception": false,
     "start_time": "2024-02-12T13:21:50.949132",
     "status": "completed"
    },
    "tags": []
   },
   "outputs": [
    {
     "data": {
      "text/plain": [
       "13"
      ]
     },
     "execution_count": 10,
     "metadata": {},
     "output_type": "execute_result"
    }
   ],
   "source": [
    "max_seq_length=len(max(new_data, key=len))\n",
    "max_seq_length\n"
   ]
  },
  {
   "cell_type": "markdown",
   "id": "c130c04a",
   "metadata": {
    "papermill": {
     "duration": 0.015077,
     "end_time": "2024-02-12T13:21:51.006278",
     "exception": false,
     "start_time": "2024-02-12T13:21:50.991201",
     "status": "completed"
    },
    "tags": []
   },
   "source": [
    "**Adding Tokens**\n",
    "\n",
    "Adding the tokens that represents the start of the molecule(<) and end of the molecule(>)"
   ]
  },
  {
   "cell_type": "code",
   "execution_count": 11,
   "id": "dccccecd",
   "metadata": {
    "execution": {
     "iopub.execute_input": "2024-02-12T13:21:51.110056Z",
     "iopub.status.busy": "2024-02-12T13:21:51.109596Z",
     "iopub.status.idle": "2024-02-12T13:21:51.115252Z",
     "shell.execute_reply": "2024-02-12T13:21:51.113924Z"
    },
    "papermill": {
     "duration": 0.096526,
     "end_time": "2024-02-12T13:21:51.117815",
     "exception": false,
     "start_time": "2024-02-12T13:21:51.021289",
     "status": "completed"
    },
    "tags": []
   },
   "outputs": [],
   "source": [
    "def adding_tokens(text):\n",
    "    return \"<\"+text+\">\""
   ]
  },
  {
   "cell_type": "code",
   "execution_count": 12,
   "id": "6905ad69",
   "metadata": {
    "execution": {
     "iopub.execute_input": "2024-02-12T13:21:51.148455Z",
     "iopub.status.busy": "2024-02-12T13:21:51.148051Z",
     "iopub.status.idle": "2024-02-12T13:21:51.517944Z",
     "shell.execute_reply": "2024-02-12T13:21:51.516224Z"
    },
    "papermill": {
     "duration": 0.389829,
     "end_time": "2024-02-12T13:21:51.522213",
     "exception": false,
     "start_time": "2024-02-12T13:21:51.132384",
     "status": "completed"
    },
    "tags": []
   },
   "outputs": [],
   "source": [
    "with ThreadPoolExecutor(max_workers=os.cpu_count()) as pool:\n",
    "    new_data = list(pool.map(adding_tokens, new_data))"
   ]
  },
  {
   "cell_type": "markdown",
   "id": "7b46005c",
   "metadata": {
    "papermill": {
     "duration": 0.013928,
     "end_time": "2024-02-12T13:21:51.550386",
     "exception": false,
     "start_time": "2024-02-12T13:21:51.536458",
     "status": "completed"
    },
    "tags": []
   },
   "source": [
    "#### We'll divide the molecule in two parts i.e. input data and output data\n",
    "For eg: **< CCO >** -> input data **< CCO** and output data **CCO>**\n",
    "\n",
    "\n",
    "Our input data (that will go into decoder) will contain only the starting token (<) and our output data (that decoder generates) will contain the ending token(>)"
   ]
  },
  {
   "cell_type": "markdown",
   "id": "fac46a28",
   "metadata": {
    "papermill": {
     "duration": 0.013869,
     "end_time": "2024-02-12T13:21:51.580239",
     "exception": false,
     "start_time": "2024-02-12T13:21:51.566370",
     "status": "completed"
    },
    "tags": []
   },
   "source": [
    "**Making Input Data**"
   ]
  },
  {
   "cell_type": "code",
   "execution_count": 13,
   "id": "876ca695",
   "metadata": {
    "execution": {
     "iopub.execute_input": "2024-02-12T13:21:51.611815Z",
     "iopub.status.busy": "2024-02-12T13:21:51.611325Z",
     "iopub.status.idle": "2024-02-12T13:21:51.618251Z",
     "shell.execute_reply": "2024-02-12T13:21:51.616617Z"
    },
    "papermill": {
     "duration": 0.026789,
     "end_time": "2024-02-12T13:21:51.621316",
     "exception": false,
     "start_time": "2024-02-12T13:21:51.594527",
     "status": "completed"
    },
    "tags": []
   },
   "outputs": [],
   "source": [
    "def convert_to_source_str(molecule):\n",
    "    return molecule.strip(\">\")"
   ]
  },
  {
   "cell_type": "code",
   "execution_count": 14,
   "id": "eb72c1e1",
   "metadata": {
    "execution": {
     "iopub.execute_input": "2024-02-12T13:21:51.654349Z",
     "iopub.status.busy": "2024-02-12T13:21:51.653847Z",
     "iopub.status.idle": "2024-02-12T13:21:51.692696Z",
     "shell.execute_reply": "2024-02-12T13:21:51.691693Z"
    },
    "papermill": {
     "duration": 0.058009,
     "end_time": "2024-02-12T13:21:51.695462",
     "exception": false,
     "start_time": "2024-02-12T13:21:51.637453",
     "status": "completed"
    },
    "tags": []
   },
   "outputs": [],
   "source": [
    "with ThreadPoolExecutor(max_workers=os.cpu_count()) as pool:\n",
    "    X=list(pool.map(convert_to_source_str,new_data))"
   ]
  },
  {
   "cell_type": "markdown",
   "id": "0ceee0cb",
   "metadata": {
    "papermill": {
     "duration": 0.013863,
     "end_time": "2024-02-12T13:21:51.724316",
     "exception": false,
     "start_time": "2024-02-12T13:21:51.710453",
     "status": "completed"
    },
    "tags": []
   },
   "source": [
    "**Making Output data**"
   ]
  },
  {
   "cell_type": "code",
   "execution_count": 15,
   "id": "8c6fc69a",
   "metadata": {
    "execution": {
     "iopub.execute_input": "2024-02-12T13:21:51.755869Z",
     "iopub.status.busy": "2024-02-12T13:21:51.754296Z",
     "iopub.status.idle": "2024-02-12T13:21:51.760331Z",
     "shell.execute_reply": "2024-02-12T13:21:51.759378Z"
    },
    "papermill": {
     "duration": 0.023964,
     "end_time": "2024-02-12T13:21:51.762726",
     "exception": false,
     "start_time": "2024-02-12T13:21:51.738762",
     "status": "completed"
    },
    "tags": []
   },
   "outputs": [],
   "source": [
    "def convert_to_source_str(molecule_str):\n",
    "    return molecule_str.strip(\"<\")"
   ]
  },
  {
   "cell_type": "code",
   "execution_count": 16,
   "id": "5b87e513",
   "metadata": {
    "execution": {
     "iopub.execute_input": "2024-02-12T13:21:51.794011Z",
     "iopub.status.busy": "2024-02-12T13:21:51.793218Z",
     "iopub.status.idle": "2024-02-12T13:21:51.831977Z",
     "shell.execute_reply": "2024-02-12T13:21:51.829905Z"
    },
    "papermill": {
     "duration": 0.057852,
     "end_time": "2024-02-12T13:21:51.835041",
     "exception": false,
     "start_time": "2024-02-12T13:21:51.777189",
     "status": "completed"
    },
    "tags": []
   },
   "outputs": [],
   "source": [
    "with ThreadPoolExecutor(max_workers=os.cpu_count()) as pool:\n",
    "    Y = list(pool.map(convert_to_source_str,new_data))"
   ]
  },
  {
   "cell_type": "code",
   "execution_count": 17,
   "id": "b64a7683",
   "metadata": {
    "execution": {
     "iopub.execute_input": "2024-02-12T13:21:51.867012Z",
     "iopub.status.busy": "2024-02-12T13:21:51.866477Z",
     "iopub.status.idle": "2024-02-12T13:21:51.872991Z",
     "shell.execute_reply": "2024-02-12T13:21:51.871510Z"
    },
    "papermill": {
     "duration": 0.02612,
     "end_time": "2024-02-12T13:21:51.875646",
     "exception": false,
     "start_time": "2024-02-12T13:21:51.849526",
     "status": "completed"
    },
    "tags": []
   },
   "outputs": [],
   "source": [
    "list_of_tuples = list(zip(X, Y))"
   ]
  },
  {
   "cell_type": "code",
   "execution_count": 18,
   "id": "28d82408",
   "metadata": {
    "execution": {
     "iopub.execute_input": "2024-02-12T13:21:51.908121Z",
     "iopub.status.busy": "2024-02-12T13:21:51.907523Z",
     "iopub.status.idle": "2024-02-12T13:21:51.917512Z",
     "shell.execute_reply": "2024-02-12T13:21:51.916312Z"
    },
    "papermill": {
     "duration": 0.029509,
     "end_time": "2024-02-12T13:21:51.920186",
     "exception": false,
     "start_time": "2024-02-12T13:21:51.890677",
     "status": "completed"
    },
    "tags": []
   },
   "outputs": [],
   "source": [
    "molecule_file=pd.DataFrame(list_of_tuples,columns=[\"X\", 'Y'])\n"
   ]
  },
  {
   "cell_type": "code",
   "execution_count": 19,
   "id": "ca70a358",
   "metadata": {
    "execution": {
     "iopub.execute_input": "2024-02-12T13:21:51.953965Z",
     "iopub.status.busy": "2024-02-12T13:21:51.953230Z",
     "iopub.status.idle": "2024-02-12T13:21:51.983721Z",
     "shell.execute_reply": "2024-02-12T13:21:51.982412Z"
    },
    "papermill": {
     "duration": 0.050559,
     "end_time": "2024-02-12T13:21:51.986503",
     "exception": false,
     "start_time": "2024-02-12T13:21:51.935944",
     "status": "completed"
    },
    "tags": []
   },
   "outputs": [
    {
     "data": {
      "text/html": [
       "<div>\n",
       "<style scoped>\n",
       "    .dataframe tbody tr th:only-of-type {\n",
       "        vertical-align: middle;\n",
       "    }\n",
       "\n",
       "    .dataframe tbody tr th {\n",
       "        vertical-align: top;\n",
       "    }\n",
       "\n",
       "    .dataframe thead th {\n",
       "        text-align: right;\n",
       "    }\n",
       "</style>\n",
       "<table border=\"1\" class=\"dataframe\">\n",
       "  <thead>\n",
       "    <tr style=\"text-align: right;\">\n",
       "      <th></th>\n",
       "      <th>X</th>\n",
       "      <th>Y</th>\n",
       "    </tr>\n",
       "  </thead>\n",
       "  <tbody>\n",
       "    <tr>\n",
       "      <th>0</th>\n",
       "      <td>&lt;CCO</td>\n",
       "      <td>CCO&gt;</td>\n",
       "    </tr>\n",
       "    <tr>\n",
       "      <th>1</th>\n",
       "      <td>&lt;C</td>\n",
       "      <td>C&gt;</td>\n",
       "    </tr>\n",
       "    <tr>\n",
       "      <th>2</th>\n",
       "      <td>&lt;CO</td>\n",
       "      <td>CO&gt;</td>\n",
       "    </tr>\n",
       "    <tr>\n",
       "      <th>3</th>\n",
       "      <td>&lt;NCCS</td>\n",
       "      <td>NCCS&gt;</td>\n",
       "    </tr>\n",
       "    <tr>\n",
       "      <th>4</th>\n",
       "      <td>&lt;NCCN</td>\n",
       "      <td>NCCN&gt;</td>\n",
       "    </tr>\n",
       "    <tr>\n",
       "      <th>...</th>\n",
       "      <td>...</td>\n",
       "      <td>...</td>\n",
       "    </tr>\n",
       "    <tr>\n",
       "      <th>995</th>\n",
       "      <td>&lt;CN1CCSC1=S</td>\n",
       "      <td>CN1CCSC1=S&gt;</td>\n",
       "    </tr>\n",
       "    <tr>\n",
       "      <th>996</th>\n",
       "      <td>&lt;CCCCC=CC=O</td>\n",
       "      <td>CCCCC=CC=O&gt;</td>\n",
       "    </tr>\n",
       "    <tr>\n",
       "      <th>997</th>\n",
       "      <td>&lt;BrCC=CCBr</td>\n",
       "      <td>BrCC=CCBr&gt;</td>\n",
       "    </tr>\n",
       "    <tr>\n",
       "      <th>998</th>\n",
       "      <td>&lt;N#CC=CC#N</td>\n",
       "      <td>N#CC=CC#N&gt;</td>\n",
       "    </tr>\n",
       "    <tr>\n",
       "      <th>999</th>\n",
       "      <td>&lt;COCC=CCOC</td>\n",
       "      <td>COCC=CCOC&gt;</td>\n",
       "    </tr>\n",
       "  </tbody>\n",
       "</table>\n",
       "<p>1000 rows × 2 columns</p>\n",
       "</div>"
      ],
      "text/plain": [
       "               X            Y\n",
       "0           <CCO         CCO>\n",
       "1             <C           C>\n",
       "2            <CO          CO>\n",
       "3          <NCCS        NCCS>\n",
       "4          <NCCN        NCCN>\n",
       "..           ...          ...\n",
       "995  <CN1CCSC1=S  CN1CCSC1=S>\n",
       "996  <CCCCC=CC=O  CCCCC=CC=O>\n",
       "997   <BrCC=CCBr   BrCC=CCBr>\n",
       "998   <N#CC=CC#N   N#CC=CC#N>\n",
       "999   <COCC=CCOC   COCC=CCOC>\n",
       "\n",
       "[1000 rows x 2 columns]"
      ]
     },
     "execution_count": 19,
     "metadata": {},
     "output_type": "execute_result"
    }
   ],
   "source": [
    "molecule_file"
   ]
  },
  {
   "cell_type": "markdown",
   "id": "c1495e3e",
   "metadata": {
    "papermill": {
     "duration": 0.015019,
     "end_time": "2024-02-12T13:21:52.017626",
     "exception": false,
     "start_time": "2024-02-12T13:21:52.002607",
     "status": "completed"
    },
    "tags": []
   },
   "source": [
    "**Vocabulary**"
   ]
  },
  {
   "cell_type": "code",
   "execution_count": 20,
   "id": "defea874",
   "metadata": {
    "execution": {
     "iopub.execute_input": "2024-02-12T13:21:52.052218Z",
     "iopub.status.busy": "2024-02-12T13:21:52.051702Z",
     "iopub.status.idle": "2024-02-12T13:21:52.057695Z",
     "shell.execute_reply": "2024-02-12T13:21:52.056306Z"
    },
    "papermill": {
     "duration": 0.026427,
     "end_time": "2024-02-12T13:21:52.060331",
     "exception": false,
     "start_time": "2024-02-12T13:21:52.033904",
     "status": "completed"
    },
    "tags": []
   },
   "outputs": [],
   "source": [
    "vocabulary=set(\"\".join(new_data))"
   ]
  },
  {
   "cell_type": "code",
   "execution_count": 21,
   "id": "2d348b59",
   "metadata": {
    "execution": {
     "iopub.execute_input": "2024-02-12T13:21:52.097037Z",
     "iopub.status.busy": "2024-02-12T13:21:52.096559Z",
     "iopub.status.idle": "2024-02-12T13:21:52.103642Z",
     "shell.execute_reply": "2024-02-12T13:21:52.102366Z"
    },
    "papermill": {
     "duration": 0.02901,
     "end_time": "2024-02-12T13:21:52.106796",
     "exception": false,
     "start_time": "2024-02-12T13:21:52.077786",
     "status": "completed"
    },
    "tags": []
   },
   "outputs": [
    {
     "name": "stdout",
     "output_type": "stream",
     "text": [
      "The length of the list is :26\n"
     ]
    }
   ],
   "source": [
    "vocabulary=list(vocabulary)\n",
    "len_vocabulary=len(vocabulary)\n",
    "print(f\"The length of the list is :{len_vocabulary}\")"
   ]
  },
  {
   "cell_type": "markdown",
   "id": "d5bbe601",
   "metadata": {
    "papermill": {
     "duration": 0.014082,
     "end_time": "2024-02-12T13:21:52.135708",
     "exception": false,
     "start_time": "2024-02-12T13:21:52.121626",
     "status": "completed"
    },
    "tags": []
   },
   "source": [
    "#### Determining the maximum sequence length \n",
    "\n",
    "molecule_file[\"X\"] and molecule_file[\"Y\"] will have same sequence length because they possess the same molecule and both of them have one extra token either(<) or (>)"
   ]
  },
  {
   "cell_type": "code",
   "execution_count": 22,
   "id": "e2f342ed",
   "metadata": {
    "execution": {
     "iopub.execute_input": "2024-02-12T13:21:52.167166Z",
     "iopub.status.busy": "2024-02-12T13:21:52.166681Z",
     "iopub.status.idle": "2024-02-12T13:21:52.175393Z",
     "shell.execute_reply": "2024-02-12T13:21:52.173988Z"
    },
    "papermill": {
     "duration": 0.027843,
     "end_time": "2024-02-12T13:21:52.178333",
     "exception": false,
     "start_time": "2024-02-12T13:21:52.150490",
     "status": "completed"
    },
    "tags": []
   },
   "outputs": [
    {
     "name": "stdout",
     "output_type": "stream",
     "text": [
      "The maximum sequence length : 14\n"
     ]
    }
   ],
   "source": [
    "max_seq_len = len(max(molecule_file[\"X\"], key=len))\n",
    "print(f\"The maximum sequence length : {max_seq_len}\")"
   ]
  },
  {
   "cell_type": "markdown",
   "id": "4428b08c",
   "metadata": {
    "papermill": {
     "duration": 0.014799,
     "end_time": "2024-02-12T13:21:52.208625",
     "exception": false,
     "start_time": "2024-02-12T13:21:52.193826",
     "status": "completed"
    },
    "tags": []
   },
   "source": [
    "**TextVectorization**"
   ]
  },
  {
   "cell_type": "code",
   "execution_count": 23,
   "id": "69fb6e6f",
   "metadata": {
    "execution": {
     "iopub.execute_input": "2024-02-12T13:21:52.246935Z",
     "iopub.status.busy": "2024-02-12T13:21:52.245974Z",
     "iopub.status.idle": "2024-02-12T13:21:52.407802Z",
     "shell.execute_reply": "2024-02-12T13:21:52.406419Z"
    },
    "papermill": {
     "duration": 0.186961,
     "end_time": "2024-02-12T13:21:52.412791",
     "exception": false,
     "start_time": "2024-02-12T13:21:52.225830",
     "status": "completed"
    },
    "tags": []
   },
   "outputs": [],
   "source": [
    "tv_layer = TextVectorization( max_tokens=len_vocabulary+2,\n",
    "    standardize=None,\n",
    "    split='character',\n",
    "    ngrams=None,\n",
    "    output_mode='int',\n",
    "    output_sequence_length=max_seq_len,\n",
    "    pad_to_max_tokens=False,\n",
    "    vocabulary=vocabulary,\n",
    "    idf_weights=None,\n",
    "    sparse=False,\n",
    "    ragged=False,\n",
    "    encoding='utf-8',)"
   ]
  },
  {
   "cell_type": "code",
   "execution_count": 24,
   "id": "a132f3f0",
   "metadata": {
    "execution": {
     "iopub.execute_input": "2024-02-12T13:21:52.445551Z",
     "iopub.status.busy": "2024-02-12T13:21:52.445162Z",
     "iopub.status.idle": "2024-02-12T13:21:52.534194Z",
     "shell.execute_reply": "2024-02-12T13:21:52.532810Z"
    },
    "papermill": {
     "duration": 0.108575,
     "end_time": "2024-02-12T13:21:52.537253",
     "exception": false,
     "start_time": "2024-02-12T13:21:52.428678",
     "status": "completed"
    },
    "tags": []
   },
   "outputs": [],
   "source": [
    "vectorized_data=tv_layer(data)\n",
    "vectorized_train=tv_layer(molecule_file[\"X\"])\n",
    "vectorized_test=tv_layer(molecule_file[\"Y\"])"
   ]
  },
  {
   "cell_type": "code",
   "execution_count": 25,
   "id": "06ef3179",
   "metadata": {
    "execution": {
     "iopub.execute_input": "2024-02-12T13:21:52.572717Z",
     "iopub.status.busy": "2024-02-12T13:21:52.572170Z",
     "iopub.status.idle": "2024-02-12T13:21:52.581988Z",
     "shell.execute_reply": "2024-02-12T13:21:52.580519Z"
    },
    "papermill": {
     "duration": 0.031032,
     "end_time": "2024-02-12T13:21:52.585093",
     "exception": false,
     "start_time": "2024-02-12T13:21:52.554061",
     "status": "completed"
    },
    "tags": []
   },
   "outputs": [
    {
     "name": "stdout",
     "output_type": "stream",
     "text": [
      "maximum sequence length for input in decoder: 14\n",
      "maximum sequence length for output in decoder: 14\n",
      "maximum sequence length for input in encoder: 15\n"
     ]
    }
   ],
   "source": [
    "max_input_sequence_length = len(max(list(molecule_file[\"X\"]), key=len))\n",
    "max_output_sequence_length = len(max(list(molecule_file[\"Y\"]), key=len))\n",
    "max_seq_data_length = len(max(list(new_data), key=len))\n",
    "\n",
    "print(f\"maximum sequence length for input in decoder: { max_input_sequence_length}\")\n",
    "print(f\"maximum sequence length for output in decoder: { max_output_sequence_length}\")\n",
    "print(f\"maximum sequence length for input in encoder: {max_seq_data_length}\")"
   ]
  },
  {
   "cell_type": "code",
   "execution_count": 26,
   "id": "703258e2",
   "metadata": {
    "execution": {
     "iopub.execute_input": "2024-02-12T13:21:52.618971Z",
     "iopub.status.busy": "2024-02-12T13:21:52.618545Z",
     "iopub.status.idle": "2024-02-12T13:21:52.624109Z",
     "shell.execute_reply": "2024-02-12T13:21:52.622802Z"
    },
    "papermill": {
     "duration": 0.024283,
     "end_time": "2024-02-12T13:21:52.626599",
     "exception": false,
     "start_time": "2024-02-12T13:21:52.602316",
     "status": "completed"
    },
    "tags": []
   },
   "outputs": [],
   "source": [
    "neuron_units=40\n",
    "embedding_layer_output=60"
   ]
  },
  {
   "cell_type": "code",
   "execution_count": 27,
   "id": "b231f19c",
   "metadata": {
    "execution": {
     "iopub.execute_input": "2024-02-12T13:21:52.660468Z",
     "iopub.status.busy": "2024-02-12T13:21:52.659993Z",
     "iopub.status.idle": "2024-02-12T13:21:52.665892Z",
     "shell.execute_reply": "2024-02-12T13:21:52.664918Z"
    },
    "papermill": {
     "duration": 0.025464,
     "end_time": "2024-02-12T13:21:52.668438",
     "exception": false,
     "start_time": "2024-02-12T13:21:52.642974",
     "status": "completed"
    },
    "tags": []
   },
   "outputs": [],
   "source": [
    "vectorized_test_one_hot = to_categorical(vectorized_test, num_classes=len_vocabulary+2)"
   ]
  },
  {
   "cell_type": "code",
   "execution_count": 28,
   "id": "5bda3f39",
   "metadata": {
    "execution": {
     "iopub.execute_input": "2024-02-12T13:21:52.703578Z",
     "iopub.status.busy": "2024-02-12T13:21:52.703119Z",
     "iopub.status.idle": "2024-02-12T13:21:52.710324Z",
     "shell.execute_reply": "2024-02-12T13:21:52.708835Z"
    },
    "papermill": {
     "duration": 0.027227,
     "end_time": "2024-02-12T13:21:52.713336",
     "exception": false,
     "start_time": "2024-02-12T13:21:52.686109",
     "status": "completed"
    },
    "tags": []
   },
   "outputs": [
    {
     "name": "stdout",
     "output_type": "stream",
     "text": [
      "one hot encoded output data: (28,)\n"
     ]
    }
   ],
   "source": [
    "print(f\"one hot encoded output data: {vectorized_test_one_hot[0][0].shape}\")"
   ]
  },
  {
   "cell_type": "code",
   "execution_count": 29,
   "id": "206b0f1d",
   "metadata": {
    "execution": {
     "iopub.execute_input": "2024-02-12T13:21:52.747689Z",
     "iopub.status.busy": "2024-02-12T13:21:52.747176Z",
     "iopub.status.idle": "2024-02-12T13:21:53.548943Z",
     "shell.execute_reply": "2024-02-12T13:21:53.547633Z"
    },
    "papermill": {
     "duration": 0.82324,
     "end_time": "2024-02-12T13:21:53.552323",
     "exception": false,
     "start_time": "2024-02-12T13:21:52.729083",
     "status": "completed"
    },
    "tags": []
   },
   "outputs": [],
   "source": [
    "from tensorflow.keras.layers import Input, LSTM, Dense, Attention, Concatenate\n",
    "from tensorflow.keras.models import Model\n",
    "\n",
    "# Input to the encoder\n",
    "enc_input = Input(shape=(None,), name=\"input_to_encoder\")\n",
    "\n",
    "# Embedding layer for the encoder\n",
    "enc_embedding = Embedding(input_dim=(len_vocabulary + 2), output_dim=embedding_layer_output, input_length=max_seq_data_length, name=\"encoder_embedding_layer\")(enc_input)\n",
    "\n",
    "# LSTM layer for the encoder\n",
    "enc_output, enc_last_hidden_state, enc_last_cell_state = LSTM(units=neuron_units, return_state=True, name=\"encoder_lstm_layer\")(enc_embedding)\n",
    "\n",
    "# Input to the decoder\n",
    "dec_input = Input(shape=(None,), name=\"input_to_decoder\")\n",
    "\n",
    "# Embedding layer for the decoder\n",
    "dec_embedding = Embedding(input_dim=(len_vocabulary + 2), output_dim=embedding_layer_output, input_length=max_output_sequence_length, name=\"decoder_embedding_layer\")(dec_input)\n",
    "\n",
    "# LSTM layer for the decoder\n",
    "dec_lstm_layer = LSTM(units=neuron_units, return_sequences=True, return_state=True, name=\"decoder_lstm_layer\")\n",
    "dec_lstm_output, _, _ = dec_lstm_layer(inputs=dec_embedding, initial_state=[enc_last_hidden_state, enc_last_cell_state])\n",
    "\n",
    "# Attention layer to focus on encoder outputs\n",
    "attention = Attention()([dec_lstm_output, enc_output])\n",
    "\n",
    "# Concatenate attention output with decoder LSTM output\n",
    "decoder_combined_context = Concatenate(axis=-1)([dec_lstm_output, attention])\n",
    "\n",
    "# Dense layer for the final decoder output\n",
    "dec_output = Dense(units=(len_vocabulary + 2), activation=\"softmax\", name=\"decoder_output\")(decoder_combined_context)\n",
    "\n",
    "# Create the model\n",
    "model = Model(inputs=[enc_input, dec_input], outputs=dec_output)\n"
   ]
  },
  {
   "cell_type": "code",
   "execution_count": 30,
   "id": "06acbbe8",
   "metadata": {
    "execution": {
     "iopub.execute_input": "2024-02-12T13:21:53.587555Z",
     "iopub.status.busy": "2024-02-12T13:21:53.587103Z",
     "iopub.status.idle": "2024-02-12T13:21:53.609178Z",
     "shell.execute_reply": "2024-02-12T13:21:53.607834Z"
    },
    "papermill": {
     "duration": 0.043386,
     "end_time": "2024-02-12T13:21:53.612241",
     "exception": false,
     "start_time": "2024-02-12T13:21:53.568855",
     "status": "completed"
    },
    "tags": []
   },
   "outputs": [],
   "source": [
    "model.compile(loss=\"categorical_crossentropy\",optimizer=\"adam\", metrics=\"accuracy\")"
   ]
  },
  {
   "cell_type": "code",
   "execution_count": 31,
   "id": "c680940e",
   "metadata": {
    "execution": {
     "iopub.execute_input": "2024-02-12T13:21:53.645649Z",
     "iopub.status.busy": "2024-02-12T13:21:53.645190Z",
     "iopub.status.idle": "2024-02-12T13:21:53.700922Z",
     "shell.execute_reply": "2024-02-12T13:21:53.699367Z"
    },
    "papermill": {
     "duration": 0.07841,
     "end_time": "2024-02-12T13:21:53.706254",
     "exception": false,
     "start_time": "2024-02-12T13:21:53.627844",
     "status": "completed"
    },
    "tags": []
   },
   "outputs": [
    {
     "name": "stdout",
     "output_type": "stream",
     "text": [
      "Model: \"model\"\n",
      "__________________________________________________________________________________________________\n",
      " Layer (type)                Output Shape                 Param #   Connected to                  \n",
      "==================================================================================================\n",
      " input_to_encoder (InputLay  [(None, None)]               0         []                            \n",
      " er)                                                                                              \n",
      "                                                                                                  \n",
      " input_to_decoder (InputLay  [(None, None)]               0         []                            \n",
      " er)                                                                                              \n",
      "                                                                                                  \n",
      " encoder_embedding_layer (E  (None, None, 60)             1680      ['input_to_encoder[0][0]']    \n",
      " mbedding)                                                                                        \n",
      "                                                                                                  \n",
      " decoder_embedding_layer (E  (None, None, 60)             1680      ['input_to_decoder[0][0]']    \n",
      " mbedding)                                                                                        \n",
      "                                                                                                  \n",
      " encoder_lstm_layer (LSTM)   [(None, 40),                 16160     ['encoder_embedding_layer[0][0\n",
      "                              (None, 40),                           ]']                           \n",
      "                              (None, 40)]                                                         \n",
      "                                                                                                  \n",
      " decoder_lstm_layer (LSTM)   [(None, None, 40),           16160     ['decoder_embedding_layer[0][0\n",
      "                              (None, 40),                           ]',                           \n",
      "                              (None, 40)]                            'encoder_lstm_layer[0][1]',  \n",
      "                                                                     'encoder_lstm_layer[0][2]']  \n",
      "                                                                                                  \n",
      " attention (Attention)       (None, None, 40)             0         ['decoder_lstm_layer[0][0]',  \n",
      "                                                                     'encoder_lstm_layer[0][0]']  \n",
      "                                                                                                  \n",
      " concatenate (Concatenate)   (None, None, 80)             0         ['decoder_lstm_layer[0][0]',  \n",
      "                                                                     'attention[0][0]']           \n",
      "                                                                                                  \n",
      " decoder_output (Dense)      (None, None, 28)             2268      ['concatenate[0][0]']         \n",
      "                                                                                                  \n",
      "==================================================================================================\n",
      "Total params: 37948 (148.23 KB)\n",
      "Trainable params: 37948 (148.23 KB)\n",
      "Non-trainable params: 0 (0.00 Byte)\n",
      "__________________________________________________________________________________________________\n"
     ]
    }
   ],
   "source": [
    "model.summary()"
   ]
  },
  {
   "cell_type": "code",
   "execution_count": 32,
   "id": "49d42b51",
   "metadata": {
    "execution": {
     "iopub.execute_input": "2024-02-12T13:21:53.746326Z",
     "iopub.status.busy": "2024-02-12T13:21:53.745880Z",
     "iopub.status.idle": "2024-02-12T13:22:23.538246Z",
     "shell.execute_reply": "2024-02-12T13:22:23.536962Z"
    },
    "papermill": {
     "duration": 29.815376,
     "end_time": "2024-02-12T13:22:23.540864",
     "exception": false,
     "start_time": "2024-02-12T13:21:53.725488",
     "status": "completed"
    },
    "tags": []
   },
   "outputs": [
    {
     "name": "stdout",
     "output_type": "stream",
     "text": [
      "Epoch 1/5\n",
      "234/234 [==============================] - 11s 24ms/step - loss: 1.5710 - accuracy: 0.5943 - val_loss: 1.5207 - val_accuracy: 0.5550\n",
      "Epoch 2/5\n",
      "234/234 [==============================] - 5s 20ms/step - loss: 1.0353 - accuracy: 0.7068 - val_loss: 1.1753 - val_accuracy: 0.6540\n",
      "Epoch 3/5\n",
      "234/234 [==============================] - 5s 20ms/step - loss: 0.8352 - accuracy: 0.7513 - val_loss: 1.0243 - val_accuracy: 0.6867\n",
      "Epoch 4/5\n",
      "234/234 [==============================] - 5s 20ms/step - loss: 0.7204 - accuracy: 0.7848 - val_loss: 0.9229 - val_accuracy: 0.7138\n",
      "Epoch 5/5\n",
      "234/234 [==============================] - 5s 20ms/step - loss: 0.6560 - accuracy: 0.8018 - val_loss: 0.8703 - val_accuracy: 0.7388\n"
     ]
    },
    {
     "data": {
      "text/plain": [
       "<keras.src.callbacks.History at 0x7a8dd3810070>"
      ]
     },
     "execution_count": 32,
     "metadata": {},
     "output_type": "execute_result"
    }
   ],
   "source": [
    "model.fit([vectorized_data,vectorized_train],vectorized_test_one_hot,epochs=5, batch_size=3,validation_split=0.3)"
   ]
  },
  {
   "cell_type": "code",
   "execution_count": null,
   "id": "a4e9e837",
   "metadata": {
    "papermill": {
     "duration": 0.057789,
     "end_time": "2024-02-12T13:22:23.655626",
     "exception": false,
     "start_time": "2024-02-12T13:22:23.597837",
     "status": "completed"
    },
    "tags": []
   },
   "outputs": [],
   "source": []
  }
 ],
 "metadata": {
  "kaggle": {
   "accelerator": "none",
   "dataSources": [
    {
     "datasetId": 1948519,
     "sourceId": 3231651,
     "sourceType": "datasetVersion"
    }
   ],
   "dockerImageVersionId": 30635,
   "isGpuEnabled": false,
   "isInternetEnabled": true,
   "language": "python",
   "sourceType": "notebook"
  },
  "kernelspec": {
   "display_name": "Python 3",
   "language": "python",
   "name": "python3"
  },
  "language_info": {
   "codemirror_mode": {
    "name": "ipython",
    "version": 3
   },
   "file_extension": ".py",
   "mimetype": "text/x-python",
   "name": "python",
   "nbconvert_exporter": "python",
   "pygments_lexer": "ipython3",
   "version": "3.10.12"
  },
  "papermill": {
   "default_parameters": {},
   "duration": 59.082945,
   "end_time": "2024-02-12T13:22:25.745010",
   "environment_variables": {},
   "exception": null,
   "input_path": "__notebook__.ipynb",
   "output_path": "__notebook__.ipynb",
   "parameters": {},
   "start_time": "2024-02-12T13:21:26.662065",
   "version": "2.4.0"
  }
 },
 "nbformat": 4,
 "nbformat_minor": 5
}
